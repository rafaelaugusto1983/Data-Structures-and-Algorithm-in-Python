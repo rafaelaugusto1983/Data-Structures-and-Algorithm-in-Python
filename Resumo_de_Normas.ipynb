{
  "cells": [
    {
      "cell_type": "markdown",
      "metadata": {
        "id": "view-in-github",
        "colab_type": "text"
      },
      "source": [
        "<a href=\"https://colab.research.google.com/github/rafaelaugusto1983/Data-Structures-and-Algorithm-in-Python/blob/main/Resumo_de_Normas.ipynb\" target=\"_parent\"><img src=\"https://colab.research.google.com/assets/colab-badge.svg\" alt=\"Open In Colab\"/></a>"
      ]
    },
    {
      "cell_type": "markdown",
      "metadata": {
        "id": "Tce3stUlHN0L"
      },
      "source": [
        "##### Copyright 2023 Google LLC"
      ]
    },
    {
      "cell_type": "code",
      "execution_count": null,
      "metadata": {
        "cellView": "form",
        "id": "tuOe1ymfHZPu"
      },
      "outputs": [],
      "source": [
        "#@title Licensed under the Apache License, Version 2.0 (the \"License\");\n",
        "# you may not use this file except in compliance with the License.\n",
        "# You may obtain a copy of the License at\n",
        "#\n",
        "# https://www.apache.org/licenses/LICENSE-2.0\n",
        "#\n",
        "# Unless required by applicable law or agreed to in writing, software\n",
        "# distributed under the License is distributed on an \"AS IS\" BASIS,\n",
        "# WITHOUT WARRANTIES OR CONDITIONS OF ANY KIND, either express or implied.\n",
        "# See the License for the specific language governing permissions and\n",
        "# limitations under the License."
      ]
    },
    {
      "cell_type": "markdown",
      "metadata": {
        "id": "FKwyTRdwB8aW"
      },
      "source": [
        "## Setup"
      ]
    },
    {
      "cell_type": "markdown",
      "metadata": {
        "id": "rlE8UqxrDIez"
      },
      "source": [
        "### Install & import\n"
      ]
    },
    {
      "cell_type": "code",
      "execution_count": 1,
      "metadata": {
        "id": "cZiU4TKzznh9"
      },
      "outputs": [],
      "source": [
        "!pip install -U -q google-generativeai"
      ]
    },
    {
      "cell_type": "code",
      "source": [
        "!pip install PyPDF2"
      ],
      "metadata": {
        "id": "Dbk4ja_ZVxnb",
        "outputId": "ab6741b4-4dd7-4a4a-b4de-cf5048d584df",
        "colab": {
          "base_uri": "https://localhost:8080/"
        }
      },
      "execution_count": 2,
      "outputs": [
        {
          "output_type": "stream",
          "name": "stdout",
          "text": [
            "Collecting PyPDF2\n",
            "  Downloading pypdf2-3.0.1-py3-none-any.whl (232 kB)\n",
            "\u001b[2K     \u001b[90m━━━━━━━━━━━━━━━━━━━━━━━━━━━━━━━━━━━━━━━━\u001b[0m \u001b[32m232.6/232.6 kB\u001b[0m \u001b[31m1.9 MB/s\u001b[0m eta \u001b[36m0:00:00\u001b[0m\n",
            "\u001b[?25hInstalling collected packages: PyPDF2\n",
            "Successfully installed PyPDF2-3.0.1\n"
          ]
        }
      ]
    },
    {
      "cell_type": "code",
      "execution_count": 3,
      "metadata": {
        "id": "kWIuwKG2_oWE"
      },
      "outputs": [],
      "source": [
        "# import necessary modules.\n",
        "import google.generativeai as genai\n",
        "import json\n",
        "import base64\n",
        "import pathlib\n",
        "import pprint\n",
        "import requests\n",
        "import mimetypes\n",
        "from IPython.display import Markdown"
      ]
    },
    {
      "cell_type": "markdown",
      "metadata": {
        "id": "Fet3lFjdKHEM"
      },
      "source": [
        "## Set the API key"
      ]
    },
    {
      "cell_type": "markdown",
      "metadata": {
        "id": "ZoRWILAtCzBE"
      },
      "source": [
        "Add your API_KEY to the secrets manager in the left pannel \"🔑\"."
      ]
    },
    {
      "cell_type": "code",
      "execution_count": 42,
      "metadata": {
        "id": "LaLCwNlkCyQd"
      },
      "outputs": [],
      "source": [
        "from google.colab import userdata\n",
        "\n",
        "API_KEY=userdata.get('key2')"
      ]
    },
    {
      "cell_type": "code",
      "execution_count": 43,
      "metadata": {
        "id": "_SvYoR3WCeKr"
      },
      "outputs": [],
      "source": [
        "# Configure the client library by providing your API key.\n",
        "genai.configure(api_key=API_KEY)"
      ]
    },
    {
      "cell_type": "markdown",
      "metadata": {
        "id": "weo-o73WDpdm"
      },
      "source": [
        "### Parse the arguments"
      ]
    },
    {
      "cell_type": "code",
      "execution_count": 44,
      "metadata": {
        "id": "uIog-0SyDuIF"
      },
      "outputs": [],
      "source": [
        "model = 'gemini-1.5-pro-latest' # @param {isTemplate: true}\n",
        "contents_b64 = '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' # @param {isTemplate: true}\n",
        "generation_config_b64 = 'eyJ0ZW1wZXJhdHVyZSI6MSwidG9wX3AiOjAuOTUsInRvcF9rIjowLCJtYXhfb3V0cHV0X3Rva2VucyI6ODE5Miwic3RvcF9zZXF1ZW5jZXMiOltdfQ==' # @param {isTemplate: true}\n",
        "safety_settings_b64 = 'W3siY2F0ZWdvcnkiOiJIQVJNX0NBVEVHT1JZX0hBUkFTU01FTlQiLCJ0aHJlc2hvbGQiOiJCTE9DS19NRURJVU1fQU5EX0FCT1ZFIn0seyJjYXRlZ29yeSI6IkhBUk1fQ0FURUdPUllfSEFURV9TUEVFQ0giLCJ0aHJlc2hvbGQiOiJCTE9DS19NRURJVU1fQU5EX0FCT1ZFIn0seyJjYXRlZ29yeSI6IkhBUk1fQ0FURUdPUllfU0VYVUFMTFlfRVhQTElDSVQiLCJ0aHJlc2hvbGQiOiJCTE9DS19NRURJVU1fQU5EX0FCT1ZFIn0seyJjYXRlZ29yeSI6IkhBUk1fQ0FURUdPUllfREFOR0VST1VTX0NPTlRFTlQiLCJ0aHJlc2hvbGQiOiJCTE9DS19NRURJVU1fQU5EX0FCT1ZFIn1d' # @param {isTemplate: true}\n",
        "user_input_b64 = '' # @param {isTemplate: true}\n",
        "\n",
        "contents = json.loads(base64.b64decode(contents_b64))\n",
        "generation_config = json.loads(base64.b64decode(generation_config_b64))\n",
        "safety_settings = json.loads(base64.b64decode(safety_settings_b64))\n",
        "user_input = base64.b64decode(user_input_b64).decode()\n",
        "stream = False"
      ]
    },
    {
      "cell_type": "code",
      "execution_count": 33,
      "metadata": {
        "id": "wBS8xNhN0x62",
        "colab": {
          "base_uri": "https://localhost:8080/"
        },
        "outputId": "045b3649-dfea-4310-8b16-cfa9631bc57c"
      },
      "outputs": [
        {
          "output_type": "execute_result",
          "data": {
            "text/plain": [
              "[{'role': 'user',\n",
              "  'parts': 'Me de os 3 principais pontos dessa resolução: \"Dispõe sobre os conceitos e os critérios contábeis aplicáveis a\\xa0instrumentos financeiros, bem como para a designação e o reconhecimento das relações de proteção (contabilidade de\\xa0hedge) pelas sociedades corretoras de títulos e valores mobiliários, pelas sociedades distribuidoras de títulos e valores mobiliários, pelas sociedades corretoras de câmbio, pelas administradoras de consórcio e pelas instituições de pagamento autorizadas a funcionar pelo Banco Central do Brasil e sobre os procedimentos contábeis para a definição de fluxos de caixas de ativo financeiro como somente pagamento de principal e juros, a aplicação da metodologia para apuração da taxa de juros efetiva de instrumentos financeiros, a constituição de provisão para perdas associadas ao risco de crédito e a evidenciação de informações relativas a instrumentos financeiros em notas explicativas a serem observados pelas instituições financeiras e demais instituições autorizadas a funcionar pelo Banco Central do Brasil.\"'},\n",
              " {'role': 'model',\n",
              "  'parts': 'Os 3 principais pontos da resolução são:\\n\\n1. **Estabelecimento de conceitos e critérios contábeis**: A resolução define como os instrumentos financeiros devem ser contabilizados, incluindo como reconhecer e designar as relações de proteção (hedge accounting). Isso garante maior uniformidade e transparência na contabilidade dessas instituições.\\n2. **Normas específicas para instituições financeiras**: As regras se aplicam especificamente a sociedades corretoras de títulos e valores mobiliários, distribuidoras de títulos e valores mobiliários, corretoras de câmbio, administradoras de consórcio e instituições de pagamento. Isso demonstra a necessidade de um tratamento contábil diferenciado para essas instituições, considerando suas atividades específicas.\\n3. **Padronização de procedimentos**: A resolução define procedimentos contábeis importantes, como a definição de fluxos de caixa, o cálculo da taxa de juros efetiva, a constituição de provisão para perdas por risco de crédito e a evidenciação de informações em notas explicativas.  A padronização desses procedimentos busca aumentar a confiabilidade e comparabilidade das demonstrações financeiras.'}]"
            ]
          },
          "metadata": {},
          "execution_count": 33
        }
      ],
      "source": [
        "contents"
      ]
    },
    {
      "cell_type": "code",
      "execution_count": 34,
      "metadata": {
        "id": "1681593ef561",
        "colab": {
          "base_uri": "https://localhost:8080/"
        },
        "outputId": "5d7b1cf8-f18f-4e01-ba3f-cea8a8518612"
      },
      "outputs": [
        {
          "output_type": "execute_result",
          "data": {
            "text/plain": [
              "{'temperature': 1,\n",
              " 'top_p': 0.95,\n",
              " 'top_k': 0,\n",
              " 'max_output_tokens': 8192,\n",
              " 'stop_sequences': []}"
            ]
          },
          "metadata": {},
          "execution_count": 34
        }
      ],
      "source": [
        "generation_config"
      ]
    },
    {
      "cell_type": "code",
      "execution_count": 35,
      "metadata": {
        "id": "a2c31f8f1894",
        "colab": {
          "base_uri": "https://localhost:8080/"
        },
        "outputId": "2cdd20b7-e826-4fdf-c1ff-f1f6f8c731f8"
      },
      "outputs": [
        {
          "output_type": "execute_result",
          "data": {
            "text/plain": [
              "[{'category': 'HARM_CATEGORY_HARASSMENT',\n",
              "  'threshold': 'BLOCK_MEDIUM_AND_ABOVE'},\n",
              " {'category': 'HARM_CATEGORY_HATE_SPEECH',\n",
              "  'threshold': 'BLOCK_MEDIUM_AND_ABOVE'},\n",
              " {'category': 'HARM_CATEGORY_SEXUALLY_EXPLICIT',\n",
              "  'threshold': 'BLOCK_MEDIUM_AND_ABOVE'},\n",
              " {'category': 'HARM_CATEGORY_DANGEROUS_CONTENT',\n",
              "  'threshold': 'BLOCK_MEDIUM_AND_ABOVE'}]"
            ]
          },
          "metadata": {},
          "execution_count": 35
        }
      ],
      "source": [
        "safety_settings"
      ]
    },
    {
      "cell_type": "code",
      "execution_count": 36,
      "metadata": {
        "id": "4d17bac9fefc"
      },
      "outputs": [],
      "source": [
        "user_input0 = \"Me de os 5 pontos principais dessa resolução: \""
      ]
    },
    {
      "cell_type": "code",
      "source": [
        "import requests\n",
        "import PyPDF2\n",
        "from io import BytesIO\n",
        "\n",
        "# URL of the PDF\n",
        "url = \"https://normativos.bcb.gov.br/Lists/Normativos/Attachments/49169/Circ_3598_v3_P.pdf\"\n",
        "\n",
        "# Download the PDF from the URL\n",
        "response = requests.get(url)\n",
        "\n",
        "# Check if the request was successful\n",
        "if response.status_code == 200:\n",
        "    # Save the PDF content\n",
        "    pdf_content = response.content\n",
        "\n",
        "    # Create a BytesIO object\n",
        "    pdf_file = BytesIO(pdf_content)\n",
        "\n",
        "    # Create a PDF reader object\n",
        "    pdf_reader = PyPDF2.PdfReader(pdf_file)\n",
        "\n",
        "    # Initialize a variable to store all text\n",
        "    all_text = \"\"\n",
        "\n",
        "    # Extract text from each page\n",
        "    for page_num in range(len(pdf_reader.pages)):\n",
        "        page = pdf_reader.pages[page_num]\n",
        "        all_text += page.extract_text() + \"\\n\"  # Append text from the page to all_text\n",
        "\n",
        "    # Print or use the all_text variable\n",
        "    # print(all_text)  # Print all text\n",
        "    # You can also save the all_text to a file if needed\n",
        "    # with open(\"pdf_text.txt\", \"w\", encoding=\"utf-8\") as text_file:\n",
        "    #     text_file.write(all_text)\n",
        "else:\n",
        "    print(\"Failed to download PDF\")"
      ],
      "metadata": {
        "id": "fbh_h1KMVtGx"
      },
      "execution_count": 38,
      "outputs": []
    },
    {
      "cell_type": "code",
      "source": [
        "user_input = user_input0 + all_text"
      ],
      "metadata": {
        "id": "g0hj3O6sWCVh"
      },
      "execution_count": 46,
      "outputs": []
    },
    {
      "cell_type": "markdown",
      "metadata": {
        "id": "E7zAD69vE92b"
      },
      "source": [
        "### Call the API"
      ]
    },
    {
      "cell_type": "code",
      "execution_count": 47,
      "metadata": {
        "id": "LB2LxPmAB95V"
      },
      "outputs": [],
      "source": [
        "# Call the model and print the response.\n",
        "gemini = genai.GenerativeModel(model_name=model)\n",
        "\n",
        "chat = gemini.start_chat(history=contents)\n",
        "\n",
        "response = chat.send_message(\n",
        "    user_input,\n",
        "    stream=stream)"
      ]
    },
    {
      "cell_type": "code",
      "execution_count": 48,
      "metadata": {
        "id": "Lm3RXwYuGtZK",
        "colab": {
          "base_uri": "https://localhost:8080/",
          "height": 355
        },
        "outputId": "9dbe2a04-e19b-413d-b19f-4252a7b1e7d1"
      },
      "outputs": [
        {
          "output_type": "display_data",
          "data": {
            "text/plain": [
              "<IPython.core.display.Markdown object>"
            ],
            "text/markdown": "## 5 Pontos principais da Circular nº 3.598 de 06/06/2012:\n\n1. **Definição e Espécies de Boleto de Pagamento:** A Circular define o boleto de pagamento como um instrumento padronizado com informações sobre a dívida em cobrança e oferta de produtos/serviços, viabilizando pagamentos e aceite de ofertas. Estabelece três espécies: boleto de cobrança, boleto de proposta e boleto de depósito e aporte.\n2. **Agentes Envolvidos:** Define os agentes envolvidos nas operações com boleto: beneficiário (credor), pagador (devedor), instituição financeira recebedora (recebe os fundos) e instituição financeira destinatária (contratada pelo beneficiário para emitir, apresentar e receber os recursos).\n3. **Emissão e Apresentação do Boleto:** O boleto deve ser emitido seguindo um modelo preestabelecido, podendo ser apresentado fisicamente ou eletronicamente (mediante concordância prévia do pagador). A Circular determina informações mínimas obrigatórias, como dados do pagador e beneficiário, valor, vencimento, etc.\n4. **Liquidação das Obrigações Interbancárias:** A Circular define a sistemática de liquidação das obrigações entre a instituição recebedora e a destinatária. Boletos acima do Valor de Referência (VR-Boleto) são liquidados via STR no mesmo dia, enquanto boletos abaixo do VR-Boleto podem ser liquidados via compensação multilateral ou STR, a critério da recebedora.\n5. **Convenção entre Instituições Financeiras:** As instituições financeiras, por meio de suas associações, devem convencionar a padronização do boleto, procedimentos operacionais, horários, direitos e obrigações para garantir uniformidade e cumprimento da legislação. O conteúdo dessa convenção está sujeito à aprovação do Banco Central.\n\n**Observação:** A Circular sofreu alterações posteriores, incorporadas na resposta. É fundamental consultar a versão atualizada para informações precisas.\n"
          },
          "metadata": {}
        }
      ],
      "source": [
        "display(Markdown(response.text))"
      ]
    },
    {
      "cell_type": "code",
      "execution_count": null,
      "metadata": {
        "id": "JbKuUc3NGxYD",
        "colab": {
          "base_uri": "https://localhost:8080/"
        },
        "outputId": "e54b1342-3b3a-49c4-ab65-3036be4c3b7a"
      },
      "outputs": [
        {
          "output_type": "execute_result",
          "data": {
            "text/plain": []
          },
          "metadata": {},
          "execution_count": 15
        }
      ],
      "source": [
        "response.prompt_feedback"
      ]
    },
    {
      "cell_type": "code",
      "execution_count": null,
      "metadata": {
        "id": "SLAaIq3kgwwJ",
        "colab": {
          "base_uri": "https://localhost:8080/"
        },
        "outputId": "eea583f5-d4a0-4fbb-eb3c-7ff9b3a8a857"
      },
      "outputs": [
        {
          "output_type": "execute_result",
          "data": {
            "text/plain": [
              "[content {\n",
              "  parts {\n",
              "    text: \"Bom dia! \\360\\237\\230\\212 Como posso te ajudar hoje? \\n\"\n",
              "  }\n",
              "  role: \"model\"\n",
              "}\n",
              "finish_reason: STOP\n",
              "index: 0\n",
              "safety_ratings {\n",
              "  category: HARM_CATEGORY_SEXUALLY_EXPLICIT\n",
              "  probability: NEGLIGIBLE\n",
              "}\n",
              "safety_ratings {\n",
              "  category: HARM_CATEGORY_HATE_SPEECH\n",
              "  probability: NEGLIGIBLE\n",
              "}\n",
              "safety_ratings {\n",
              "  category: HARM_CATEGORY_HARASSMENT\n",
              "  probability: NEGLIGIBLE\n",
              "}\n",
              "safety_ratings {\n",
              "  category: HARM_CATEGORY_DANGEROUS_CONTENT\n",
              "  probability: NEGLIGIBLE\n",
              "}\n",
              "]"
            ]
          },
          "metadata": {},
          "execution_count": 16
        }
      ],
      "source": [
        "response.candidates"
      ]
    }
  ],
  "metadata": {
    "colab": {
      "collapsed_sections": [
        "Tce3stUlHN0L"
      ],
      "provenance": [],
      "include_colab_link": true
    },
    "kernelspec": {
      "display_name": "Python 3",
      "name": "python3"
    }
  },
  "nbformat": 4,
  "nbformat_minor": 0
}